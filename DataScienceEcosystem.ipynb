{
 "cells": [
  {
   "cell_type": "markdown",
   "id": "cd587a81-a7d2-4ed8-9eba-17216275392d",
   "metadata": {},
   "source": [
    "# Data Science Tools and Ecosystem"
   ]
  },
  {
   "cell_type": "markdown",
   "id": "9733342c-4c67-435d-85c5-0b817ef54958",
   "metadata": {},
   "source": [
    "This Notebook shows several functions of Jupyter Notebook and summarizes some tools and ecosystems"
   ]
  },
  {
   "cell_type": "markdown",
   "id": "53bb7a19-9b00-4f65-8f7d-62e49ef8cadd",
   "metadata": {},
   "source": [
    "**Objectives:**\n",
    "* Show general aptitude of utilizing Jupyter Notebook\n",
    "* Show general understanding of available  tools for Data Science\n",
    "* Show general understanding of available  languages for Data Science\n",
    "* Show general understanding of utilizing GitHub\n"
   ]
  },
  {
   "cell_type": "markdown",
   "id": "6aba0284-3a92-4b37-9131-e4e7f61b5fde",
   "metadata": {},
   "source": [
    "Typical Data Science languages are\n",
    "\n",
    "1. Python\n",
    "2. R\n",
    "3. Java Script\n",
    "4. SQL\n",
    "5. C/C++"
   ]
  },
  {
   "cell_type": "markdown",
   "id": "78d2344e-4a3a-408a-adf9-123bc9a32536",
   "metadata": {},
   "source": [
    "Libraries for Data science include\n",
    "\n",
    "PYTHON:\n",
    "1. TensorFlow\n",
    "2. NumPy\n",
    "3. SciPy\n",
    "4. Pandas\n",
    "5. Matplotlib\n",
    "6. PyTorch\n",
    "\n",
    "R Packages:\n",
    "1. dplyr\n",
    "2. ggplot2\n",
    "3. plotly\n"
   ]
  },
  {
   "cell_type": "markdown",
   "id": "54560c19-8876-4c4b-bc4a-4f5d7199ade2",
   "metadata": {},
   "source": [
    "|Data Science Tools|\n",
    "|---|\n",
    "|Jupyter Notebook|\n",
    "|Jupyter Labs|\n",
    "|R Studio|\n",
    "|Juno|\n"
   ]
  },
  {
   "cell_type": "markdown",
   "id": "f5b68fe4-ca78-4328-94d3-f2bb7ecff1ac",
   "metadata": {},
   "source": [
    "### The following will show simple calculations performed with python ###"
   ]
  },
  {
   "cell_type": "code",
   "execution_count": 35,
   "id": "4b99396e-af84-4759-ab79-777fd86eae1c",
   "metadata": {},
   "outputs": [
    {
     "data": {
      "text/plain": [
       "17"
      ]
     },
     "execution_count": 35,
     "metadata": {},
     "output_type": "execute_result"
    }
   ],
   "source": [
    "(3*4)+5"
   ]
  },
  {
   "cell_type": "code",
   "execution_count": 37,
   "id": "fe0877f3-b368-4027-9edc-46f42ba42f44",
   "metadata": {},
   "outputs": [
    {
     "name": "stdout",
     "output_type": "stream",
     "text": [
      "3:20\n"
     ]
    }
   ],
   "source": [
    "\"Converting Minutes into hours by Dividing it by 60\"\n",
    "Minutes = 200\n",
    "Hours = Minutes//60\n",
    "\n",
    "Restminutes = Minutes-Hours*60\n",
    "\n",
    "print(\"{}:{}\".format(Hours,Restminutes))\n"
   ]
  },
  {
   "cell_type": "markdown",
   "id": "0ba49c08-f979-430c-9f84-90014db8f826",
   "metadata": {},
   "source": [
    "## Author ##\n",
    "Philipp Härtl"
   ]
  },
  {
   "cell_type": "code",
   "execution_count": null,
   "id": "fec0a719-ba61-4aee-a9c5-b23d69d6e487",
   "metadata": {},
   "outputs": [],
   "source": []
  }
 ],
 "metadata": {
  "kernelspec": {
   "display_name": "Python",
   "language": "python",
   "name": "conda-env-python-py"
  },
  "language_info": {
   "codemirror_mode": {
    "name": "ipython",
    "version": 3
   },
   "file_extension": ".py",
   "mimetype": "text/x-python",
   "name": "python",
   "nbconvert_exporter": "python",
   "pygments_lexer": "ipython3",
   "version": "3.7.12"
  }
 },
 "nbformat": 4,
 "nbformat_minor": 5
}
